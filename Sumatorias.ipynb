{
  "nbformat": 4,
  "nbformat_minor": 0,
  "metadata": {
    "colab": {
      "name": "Sumatorias.ipynb",
      "provenance": [],
      "authorship_tag": "ABX9TyPYZbS8wRIcjhmoD3eEyxy+",
      "include_colab_link": true
    },
    "kernelspec": {
      "name": "python3",
      "display_name": "Python 3"
    },
    "language_info": {
      "name": "python"
    }
  },
  "cells": [
    {
      "cell_type": "markdown",
      "metadata": {
        "id": "view-in-github",
        "colab_type": "text"
      },
      "source": [
        "<a href=\"https://colab.research.google.com/github/JosePerez1998/TrabajosProgramacionAplicada/blob/main/Sumatorias.ipynb\" target=\"_parent\"><img src=\"https://colab.research.google.com/assets/colab-badge.svg\" alt=\"Open In Colab\"/></a>"
      ]
    },
    {
      "cell_type": "code",
      "metadata": {
        "id": "MeeOukV7-GQP"
      },
      "source": [
        "def sumatoria_1(A,B,C): \n",
        "  n= len(A)\n",
        "  acumulador=0\n",
        "  for i in range (n):\n",
        "    d = B[i]+C[i]\n",
        "    e = A[i]*d \n",
        "    acumulador = acumulador + e\n",
        "  resultado =acumulador / n\n",
        "  return resultado\n"
      ],
      "execution_count": 32,
      "outputs": []
    },
    {
      "cell_type": "code",
      "metadata": {
        "colab": {
          "base_uri": "https://localhost:8080/"
        },
        "id": "w0fKqXQ2-eqV",
        "outputId": "4694fff0-b87e-4711-f18d-029507d2697e"
      },
      "source": [
        "A =[2,3,4]\n",
        "B =[4,5,6]\n",
        "C =[7,8,9]\n",
        "sumatoria_1(A,B,C)"
      ],
      "execution_count": 29,
      "outputs": [
        {
          "output_type": "execute_result",
          "data": {
            "text/plain": [
              "40.333333333333336"
            ]
          },
          "metadata": {},
          "execution_count": 29
        }
      ]
    }
  ]
}