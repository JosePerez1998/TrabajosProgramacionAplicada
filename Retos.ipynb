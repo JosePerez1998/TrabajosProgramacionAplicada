{
  "nbformat": 4,
  "nbformat_minor": 0,
  "metadata": {
    "colab": {
      "name": "Retos",
      "provenance": [],
      "collapsed_sections": [],
      "authorship_tag": "ABX9TyOBeup7F4Q6HbpayAp3Kpo6",
      "include_colab_link": true
    },
    "kernelspec": {
      "name": "python3",
      "display_name": "Python 3"
    },
    "language_info": {
      "name": "python"
    }
  },
  "cells": [
    {
      "cell_type": "markdown",
      "metadata": {
        "id": "view-in-github",
        "colab_type": "text"
      },
      "source": [
        "<a href=\"https://colab.research.google.com/github/JosePerez1998/TrabajosProgramacionAplicada/blob/main/Retos.ipynb\" target=\"_parent\"><img src=\"https://colab.research.google.com/assets/colab-badge.svg\" alt=\"Open In Colab\"/></a>"
      ]
    },
    {
      "cell_type": "code",
      "execution_count": 6,
      "metadata": {
        "colab": {
          "base_uri": "https://localhost:8080/"
        },
        "id": "RdIfm-L18nqJ",
        "outputId": "e7a15d92-39d7-4e01-9150-ca84f9a15fa6"
      },
      "outputs": [
        {
          "output_type": "stream",
          "name": "stdout",
          "text": [
            "Numero elegido: 93\n",
            "El numero esta entre 50-100\n"
          ]
        }
      ],
      "source": [
        "##Reto 6 ##\n",
        "\n",
        "import random\n",
        "y =list(range(1,121))\n",
        "x = random.choice (y)\n",
        "print('Numero elegido:', x)\n",
        "if (x < 10 ):\n",
        " print('El numero es menor de 10')\n",
        "elif (x <50):\n",
        " print('El numero esta entre 10-50')\n",
        "elif (x <100):\n",
        " print('El numero esta entre 50-100')\n",
        "else:\n",
        " print('El numero es mayor que 100')"
      ]
    },
    {
      "cell_type": "code",
      "source": [
        ""
      ],
      "metadata": {
        "id": "Yq4RjUUu_46H"
      },
      "execution_count": 5,
      "outputs": []
    }
  ]
}