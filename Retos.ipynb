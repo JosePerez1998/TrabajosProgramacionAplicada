{
  "nbformat": 4,
  "nbformat_minor": 0,
  "metadata": {
    "colab": {
      "name": "Retos",
      "provenance": [],
      "authorship_tag": "ABX9TyONQMm3ZimDJ96/UKJFx6Yr",
      "include_colab_link": true
    },
    "kernelspec": {
      "name": "python3",
      "display_name": "Python 3"
    },
    "language_info": {
      "name": "python"
    }
  },
  "cells": [
    {
      "cell_type": "markdown",
      "metadata": {
        "id": "view-in-github",
        "colab_type": "text"
      },
      "source": [
        "<a href=\"https://colab.research.google.com/github/JosePerez1998/TrabajosProgramacionAplicada/blob/main/Retos.ipynb\" target=\"_parent\"><img src=\"https://colab.research.google.com/assets/colab-badge.svg\" alt=\"Open In Colab\"/></a>"
      ]
    },
    {
      "cell_type": "code",
      "execution_count": null,
      "metadata": {
        "id": "RdIfm-L18nqJ"
      },
      "outputs": [],
      "source": [
        ""
      ]
    }
  ]
}