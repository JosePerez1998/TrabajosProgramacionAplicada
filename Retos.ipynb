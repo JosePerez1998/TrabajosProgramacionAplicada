{
  "nbformat": 4,
  "nbformat_minor": 0,
  "metadata": {
    "colab": {
      "name": "Retos",
      "provenance": [],
      "collapsed_sections": [],
      "authorship_tag": "ABX9TyNjBMq039uuFFHImG2sfX3K",
      "include_colab_link": true
    },
    "kernelspec": {
      "name": "python3",
      "display_name": "Python 3"
    },
    "language_info": {
      "name": "python"
    }
  },
  "cells": [
    {
      "cell_type": "markdown",
      "metadata": {
        "id": "view-in-github",
        "colab_type": "text"
      },
      "source": [
        "<a href=\"https://colab.research.google.com/github/JosePerez1998/TrabajosProgramacionAplicada/blob/main/Retos.ipynb\" target=\"_parent\"><img src=\"https://colab.research.google.com/assets/colab-badge.svg\" alt=\"Open In Colab\"/></a>"
      ]
    },
    {
      "cell_type": "code",
      "execution_count": 9,
      "metadata": {
        "colab": {
          "base_uri": "https://localhost:8080/"
        },
        "id": "RdIfm-L18nqJ",
        "outputId": "2f73e2e5-1677-465b-ca0e-f13ddd48dcec"
      },
      "outputs": [
        {
          "output_type": "stream",
          "name": "stdout",
          "text": [
            "Numero elegido: 78\n",
            "El numero esta entre 50-100\n"
          ]
        }
      ],
      "source": [
        "##Reto 6 ##\n",
        "\n",
        "import random\n",
        "y =list(range(1,121))\n",
        "x = random.choice (y)\n",
        "print('Numero elegido:', x)\n",
        "if (x < 10 ):\n",
        " print('El numero es menor de 10')\n",
        "elif (x <50):\n",
        " print('El numero esta entre 10-50')\n",
        "elif (x <100):\n",
        " print('El numero esta entre 50-100')\n",
        "else:\n",
        " print('El numero es mayor que 100') \n",
        "\n",
        " ##Solución vista##"
      ]
    },
    {
      "cell_type": "code",
      "source": [
        "##Reto 8## \n",
        "x=10\n",
        "while x<21:\n",
        "  if x%2==0: \n",
        "    print(x)\n",
        "  x+=1 \n",
        "\n",
        "## Solución no vista ##"
      ],
      "metadata": {
        "colab": {
          "base_uri": "https://localhost:8080/"
        },
        "id": "Yq4RjUUu_46H",
        "outputId": "1040c824-3357-42ba-c3a7-88a8e931d538"
      },
      "execution_count": 13,
      "outputs": [
        {
          "output_type": "stream",
          "name": "stdout",
          "text": [
            "10\n",
            "12\n",
            "14\n",
            "16\n",
            "18\n",
            "20\n"
          ]
        }
      ]
    },
    {
      "cell_type": "code",
      "source": [
        "##Reto 9## \n",
        "total=0\n",
        "for x in range(1, 50):\n",
        "  if x%5==0:\n",
        "    total+=x  #acumulador\n",
        "    print(x)\n",
        "print(\"El total es: \",total) \n",
        "##Solución no vista##"
      ],
      "metadata": {
        "colab": {
          "base_uri": "https://localhost:8080/"
        },
        "id": "rUk9CMDmDI6s",
        "outputId": "a40e4f49-6884-40d8-c6cd-d4dfc5af5e49"
      },
      "execution_count": 18,
      "outputs": [
        {
          "output_type": "stream",
          "name": "stdout",
          "text": [
            "5\n",
            "10\n",
            "15\n",
            "20\n",
            "25\n",
            "30\n",
            "35\n",
            "40\n",
            "45\n",
            "El total es:  225\n"
          ]
        }
      ]
    },
    {
      "cell_type": "code",
      "source": [
        "##Reto 10##\n",
        "\n",
        "s=0\n",
        "for i in range(64):\n",
        "  s+=2**i\n",
        "  print(i+1,2**i,s)\n",
        "print(\"En notación científica es %e,\\n y el total es: %E granos de trigo.\" % (2**i,s)) \n",
        "\n",
        "##Solución vista## "
      ],
      "metadata": {
        "id": "3YQYNcKyEMDu",
        "outputId": "10de35a0-2e26-46a7-92d2-803dc4ed3bf8",
        "colab": {
          "base_uri": "https://localhost:8080/"
        }
      },
      "execution_count": 22,
      "outputs": [
        {
          "output_type": "stream",
          "name": "stdout",
          "text": [
            "1 1 1\n",
            "2 2 3\n",
            "3 4 7\n",
            "4 8 15\n",
            "5 16 31\n",
            "6 32 63\n",
            "7 64 127\n",
            "8 128 255\n",
            "9 256 511\n",
            "10 512 1023\n",
            "11 1024 2047\n",
            "12 2048 4095\n",
            "13 4096 8191\n",
            "14 8192 16383\n",
            "15 16384 32767\n",
            "16 32768 65535\n",
            "17 65536 131071\n",
            "18 131072 262143\n",
            "19 262144 524287\n",
            "20 524288 1048575\n",
            "21 1048576 2097151\n",
            "22 2097152 4194303\n",
            "23 4194304 8388607\n",
            "24 8388608 16777215\n",
            "25 16777216 33554431\n",
            "26 33554432 67108863\n",
            "27 67108864 134217727\n",
            "28 134217728 268435455\n",
            "29 268435456 536870911\n",
            "30 536870912 1073741823\n",
            "31 1073741824 2147483647\n",
            "32 2147483648 4294967295\n",
            "33 4294967296 8589934591\n",
            "34 8589934592 17179869183\n",
            "35 17179869184 34359738367\n",
            "36 34359738368 68719476735\n",
            "37 68719476736 137438953471\n",
            "38 137438953472 274877906943\n",
            "39 274877906944 549755813887\n",
            "40 549755813888 1099511627775\n",
            "41 1099511627776 2199023255551\n",
            "42 2199023255552 4398046511103\n",
            "43 4398046511104 8796093022207\n",
            "44 8796093022208 17592186044415\n",
            "45 17592186044416 35184372088831\n",
            "46 35184372088832 70368744177663\n",
            "47 70368744177664 140737488355327\n",
            "48 140737488355328 281474976710655\n",
            "49 281474976710656 562949953421311\n",
            "50 562949953421312 1125899906842623\n",
            "51 1125899906842624 2251799813685247\n",
            "52 2251799813685248 4503599627370495\n",
            "53 4503599627370496 9007199254740991\n",
            "54 9007199254740992 18014398509481983\n",
            "55 18014398509481984 36028797018963967\n",
            "56 36028797018963968 72057594037927935\n",
            "57 72057594037927936 144115188075855871\n",
            "58 144115188075855872 288230376151711743\n",
            "59 288230376151711744 576460752303423487\n",
            "60 576460752303423488 1152921504606846975\n",
            "61 1152921504606846976 2305843009213693951\n",
            "62 2305843009213693952 4611686018427387903\n",
            "63 4611686018427387904 9223372036854775807\n",
            "64 9223372036854775808 18446744073709551615\n",
            "En notación científica es 9.223372e+18,\n",
            " y el total es: 1.844674E+19 granos de trigo.\n"
          ]
        }
      ]
    },
    {
      "cell_type": "code",
      "source": [
        "## Reto 13 ## \n",
        "a = float(input(\"Escribe el primer número: \")) \n",
        "b = float(input(\"Escribe el segundo número: \"))\n",
        "media = (a+b)/2\n",
        "print('Primer número:',a)\n",
        "print('Segundo número:',b)\n",
        "print('Su media:',media) \n",
        "\n",
        "## Solución no vista ## "
      ],
      "metadata": {
        "id": "LnbPDHdNHsvH",
        "outputId": "19ed3d70-3892-4069-8585-d3111bfd3eb5",
        "colab": {
          "base_uri": "https://localhost:8080/"
        }
      },
      "execution_count": 28,
      "outputs": [
        {
          "output_type": "stream",
          "name": "stdout",
          "text": [
            "Escribe el primer número: 2\n",
            "Escribe el segundo número: 3\n",
            "Primer número: 2.0\n",
            "Segundo número: 3.0\n",
            "Su media: 2.5\n"
          ]
        }
      ]
    },
    {
      "cell_type": "code",
      "source": [
        "## Reto 15 ## \n",
        "\n",
        "numeros=[]\n",
        "while True:\n",
        "  z = float(input('Escribe un número:'))\n",
        "  numeros.append(z)\n",
        "  r=input('¿Quieres otro? s/n')\n",
        "  if r=='n':\n",
        "    break\n",
        "print(numeros)\n",
        "print('Media = ', sum(numeros)/len(numeros))\n",
        "\n",
        "##Solución no vista##"
      ],
      "metadata": {
        "id": "c9t3mByfJQ70",
        "outputId": "a5aeed83-2601-4fb4-8896-c9b55ce62b0c",
        "colab": {
          "base_uri": "https://localhost:8080/"
        }
      },
      "execution_count": 29,
      "outputs": [
        {
          "output_type": "stream",
          "name": "stdout",
          "text": [
            "Escribe un número:24\n",
            "¿Quieres otro? s/nn\n",
            "[24.0]\n",
            "Media =  24.0\n"
          ]
        }
      ]
    },
    {
      "cell_type": "code",
      "source": [
        "## Reto 17 ##\n",
        "import random\n",
        "n=random.randrange(1,100)\n",
        "nu=int(input('Dime el número que crees que he elegido: '))\n",
        "while nu!=n:\n",
        "    if nu>n:\n",
        "        nu=int(input('El número es mas pequeño'))\n",
        "    elif nu<n:\n",
        "        nu=int(input('El número es mas grande'))\n",
        "print('Felicidades has adivinado que el número secreto es:',n) \n",
        "\n",
        "## Solución vista ##"
      ],
      "metadata": {
        "id": "32PGsRc6JtCp",
        "outputId": "ce03c317-7d1a-4bef-fce1-bf7defba353f",
        "colab": {
          "base_uri": "https://localhost:8080/"
        }
      },
      "execution_count": 35,
      "outputs": [
        {
          "output_type": "stream",
          "name": "stdout",
          "text": [
            "Dime el número que crees que he elegido: 200\n",
            "El número es mas pequeño100\n",
            "El número es mas pequeño50\n",
            "El número es mas grande60\n",
            "El número es mas pequeño55\n",
            "El número es mas pequeño54\n",
            "Felicidades has adivinado que el número secreto es: 54\n"
          ]
        }
      ]
    },
    {
      "cell_type": "code",
      "source": [
        "## Reto 20 ## \n",
        "def bisiesto(x):\n",
        "  if x%4==0 and (not(x%100==0) or x%400==0 ):\n",
        "    texto='es bisiesto.'\n",
        "  else:\n",
        "    texto=' NO es un año bisiesto.'\n",
        "  return texto\n",
        "x=int(input('Introduzca un año:'))\n",
        "print(x,bisiesto(x)) \n",
        "\n",
        "##Solución No Vista##"
      ],
      "metadata": {
        "id": "m9NV12rhMmUx",
        "outputId": "38b67ecd-b8e4-4f0f-d3d8-de88df779a99",
        "colab": {
          "base_uri": "https://localhost:8080/"
        }
      },
      "execution_count": 38,
      "outputs": [
        {
          "output_type": "stream",
          "name": "stdout",
          "text": [
            "Introduzca un año:200\n",
            "200  NO es un año bisiesto.\n"
          ]
        }
      ]
    },
    {
      "cell_type": "code",
      "source": [
        "## Reto 26 ##\n",
        "\n",
        "from random import randint\n",
        "x = randint(1000000, 2000001)\n",
        "print(x)\n",
        "x=str(x)\n",
        "par=0\n",
        "for i in x:\n",
        "  if int(i)%2==0:\n",
        "    par+=1\n",
        "print('Hay un total de',par,'cifras pares')\n",
        "print('Hay un total de',7-par,'cifras impares') \n",
        "\n",
        "## Solución Vista ##"
      ],
      "metadata": {
        "id": "-APdU9ljOdPc",
        "outputId": "7bc8e0b5-2e73-4b3e-b2ac-81134fb84fdb",
        "colab": {
          "base_uri": "https://localhost:8080/"
        }
      },
      "execution_count": 40,
      "outputs": [
        {
          "output_type": "stream",
          "name": "stdout",
          "text": [
            "1297443\n",
            "Hay un total de 3 cifras pares\n",
            "Hay un total de 4 cifras impares\n"
          ]
        }
      ]
    },
    {
      "cell_type": "code",
      "source": [
        "## Reto 27 ## \n",
        "import random\n",
        "L=random.sample(range(100),10)\n",
        "print(L)\n",
        "L.sort() #se ordena la lista\n",
        "print(L)\n",
        "print('Máximo:',L[9])\n",
        "print('Mínimo:',L[0])\n",
        "\n",
        "##Solución no vista## "
      ],
      "metadata": {
        "id": "SxMY1vRHOyHw",
        "outputId": "01f99bb8-52f3-4316-c9b4-bafb37d72796",
        "colab": {
          "base_uri": "https://localhost:8080/"
        }
      },
      "execution_count": 45,
      "outputs": [
        {
          "output_type": "stream",
          "name": "stdout",
          "text": [
            "[91, 13, 90, 60, 92, 36, 39, 43, 66, 33]\n",
            "[13, 33, 36, 39, 43, 60, 66, 90, 91, 92]\n",
            "Máximo: 92\n",
            "Mínimo: 13\n"
          ]
        }
      ]
    }
  ]
}